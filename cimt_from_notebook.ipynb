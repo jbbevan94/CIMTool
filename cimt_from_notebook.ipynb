{
 "metadata": {
  "name": "",
  "signature": "sha256:dded6e4818ea19c6ac44a4cf748b457474f585799e86835914f6f5114717f73c"
 },
 "nbformat": 3,
 "nbformat_minor": 0,
 "worksheets": [
  {
   "cells": [
    {
     "cell_type": "markdown",
     "metadata": {},
     "source": [
      "##Using CIMTool via an ipython session"
     ]
    },
    {
     "cell_type": "code",
     "collapsed": false,
     "input": [
      "'''\n",
      "cimt_main.py\n",
      "Climate Impact Metrics Tool 'main' file\n",
      "'''\n",
      "\n",
      "import cimt_settings\n",
      "import cimt_metrics\n",
      "\n",
      "ImpactMetric = getattr( cimt_metrics , cimt_settings.impact_metric )\n",
      "\n",
      "for period_index in cimt_settings.period_list:\n",
      "    BaseMetric = ImpactMetric()\n",
      "    BaseMetric.load_modify_cubes( base_run = True , period = period_index  )\n",
      "    BaseMetric.temporal_mean()\n",
      "    BaseMetric.ensemble_mean()\n",
      "    if cimt_settings.comparison_type == 'base_only':  \n",
      "        BaseMetric.save_outputs() # Program terminates here if base-only\n",
      "    else: \n",
      "        for instance_index in range( cimt_settings.number_of_future_jobsets ):\n",
      "            FutureMetric = ImpactMetric()\n",
      "            FutureMetric.load_modify_cubes( base_run = False , period = period_index , instance = instance_index )\n",
      "            FutureMetric.temporal_mean()\n",
      "            FutureMetric.ensemble_mean()\n",
      "            FutureMetric.subtract_cubes( BaseMetric )\n",
      "            FutureMetric.save_outputs( BaseMetric )"
     ],
     "language": "python",
     "metadata": {},
     "outputs": [
      {
       "output_type": "stream",
       "stream": "stdout",
       "text": [
        "Preparing to load cubes for Base Metric: RCP2.6_PD\n",
        "Loading Cube: NPP_(2010-2011)_kaadc_ann\n",
        "Loading Cube: NPP_(2010-2011)_kaaec_ann\n",
        "../../climate_impacts/cimt_output/NPP_(2010-2011)_kaadc_ann.png"
       ]
      },
      {
       "output_type": "stream",
       "stream": "stdout",
       "text": [
        "  already exists. Please delete existing file first.\n",
        "../../climate_impacts/cimt_output/NPP_(2010-2011)_kaaec_ann.png  already exists. Please delete existing file first.\n",
        "../../climate_impacts/cimt_output/NPP_(2010-2011)_Ensemble_Mean_RCP2.6_PD_ann.png  already exists. Please delete existing file first.\n"
       ]
      },
      {
       "output_type": "stream",
       "stream": "stderr",
       "text": [
        "/opt/ukmo/iris/default/linux64/site-packages/iris/coords.py:987: UserWarning: Collapsing a non-contiguous coordinate. Metadata may not be fully descriptive for u'year'.\n",
        "  warnings.warn(msg.format(self.name()))\n"
       ]
      }
     ],
     "prompt_number": 1
    },
    {
     "cell_type": "code",
     "collapsed": false,
     "input": [],
     "language": "python",
     "metadata": {},
     "outputs": []
    }
   ],
   "metadata": {}
  }
 ]
}